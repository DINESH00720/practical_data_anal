{
  "nbformat": 4,
  "nbformat_minor": 0,
  "metadata": {
    "colab": {
      "provenance": []
    },
    "kernelspec": {
      "name": "python3",
      "display_name": "Python 3"
    },
    "language_info": {
      "name": "python"
    }
  },
  "cells": [
    {
      "cell_type": "markdown",
      "source": [
        "# Assignment 1"
      ],
      "metadata": {
        "id": "-9hQGgQ946Ri"
      }
    },
    {
      "cell_type": "markdown",
      "source": [
        "## 1: Load and Inspect the Data\n",
        "\n",
        "Load the datasets (employee_rating.csv and employee_general.csv) and check if they are loaded properly. Print data types and classify them as numeric, binary, ordinal, or nominal."
      ],
      "metadata": {
        "id": "r3uSjrSE4987"
      }
    },
    {
      "cell_type": "code",
      "execution_count": 27,
      "metadata": {
        "id": "Klbu7PPo4NkV"
      },
      "outputs": [],
      "source": [
        "# Importing neccessary libraries\n",
        "import pandas as pd\n",
        "import numpy as np\n",
        "import matplotlib.pyplot as plt\n",
        "import seaborn as sns\n",
        "import warnings\n",
        "warnings.filterwarnings('ignore')"
      ]
    },
    {
      "cell_type": "code",
      "source": [
        "# Load the datasets\n",
        "rating_df = pd.read_csv('employee_rating.csv')\n",
        "general_df = pd.read_csv('employee_general.csv', delimiter='|')  # Use '|' as delimiter since columns are concatenated\n"
      ],
      "metadata": {
        "id": "2mz3Czyp5vqC"
      },
      "execution_count": 28,
      "outputs": []
    },
    {
      "cell_type": "code",
      "source": [
        "# Display first few rows\n",
        "print(\"Employee Rating Data:\\n\", rating_df.head(), \"\\n\")\n",
        "print(\"Employee General Data:\\n\", general_df.head(), \"\\n\")\n"
      ],
      "metadata": {
        "colab": {
          "base_uri": "https://localhost:8080/"
        },
        "id": "myT4r8b7562s",
        "outputId": "7af47049-c7ed-426a-b495-a1332cf6023d"
      },
      "execution_count": 29,
      "outputs": [
        {
          "output_type": "stream",
          "name": "stdout",
          "text": [
            "Employee Rating Data:\n",
            "    EmployeeNumber              Department EnvironmentSatisfaction  \\\n",
            "0               1                   Sales                  Medium   \n",
            "1               2  Research & Development                    High   \n",
            "2               4  Research & Development               Very High   \n",
            "3               5  Research & Development               Very High   \n",
            "4               7  Research & Development                     Low   \n",
            "\n",
            "                 JobRole PerformanceRating  YearsAtCompany  \\\n",
            "0        Sales Executive         Excellent               6   \n",
            "1     Research Scientist       Outstanding              10   \n",
            "2  Laboratory Technician         Excellent               0   \n",
            "3     Research Scientist         Excellent               8   \n",
            "4  Laboratory Technician         Excellent               2   \n",
            "\n",
            "   YearsInCurrentRole  MonthlyIncome  \n",
            "0                   4           5993  \n",
            "1                   7           5130  \n",
            "2                   0           2090  \n",
            "3                   7           2909  \n",
            "4                   2           3468   \n",
            "\n",
            "Employee General Data:\n",
            "    EmployeeNumber      Education EducationField MaritalStatus\n",
            "0               1        College  Life Sciences        Single\n",
            "1               2  Below College  Life Sciences       Married\n",
            "2               4        College          Other        Single\n",
            "3               5         Master  Life Sciences       Married\n",
            "4               7  Below College        Medical       Married \n",
            "\n"
          ]
        }
      ]
    },
    {
      "cell_type": "code",
      "source": [
        "# Check data types\n",
        "print(\"Data Types in Employee Rating Dataset:\\n\", rating_df.dtypes, \"\\n\")\n",
        "print(\"Data Types in Employee General Dataset:\\n\", general_df.dtypes, \"\\n\")\n"
      ],
      "metadata": {
        "colab": {
          "base_uri": "https://localhost:8080/"
        },
        "id": "-vWg7MrQ6AaL",
        "outputId": "d8df184f-484e-4440-9928-2b1242475cdb"
      },
      "execution_count": 30,
      "outputs": [
        {
          "output_type": "stream",
          "name": "stdout",
          "text": [
            "Data Types in Employee Rating Dataset:\n",
            " EmployeeNumber              int64\n",
            "Department                 object\n",
            "EnvironmentSatisfaction    object\n",
            "JobRole                    object\n",
            "PerformanceRating          object\n",
            "YearsAtCompany              int64\n",
            "YearsInCurrentRole          int64\n",
            "MonthlyIncome               int64\n",
            "dtype: object \n",
            "\n",
            "Data Types in Employee General Dataset:\n",
            " EmployeeNumber     int64\n",
            "Education         object\n",
            "EducationField    object\n",
            "MaritalStatus     object\n",
            "dtype: object \n",
            "\n"
          ]
        }
      ]
    },
    {
      "cell_type": "code",
      "source": [
        "# Identify column types (numeric, binary, ordinal, nominal)\n",
        "def identify_column_types(df):\n",
        "    \"\"\"\n",
        "    Identifies the data type of each column in a Pandas DataFrame.\n",
        "\n",
        "    Args:\n",
        "        df: The input Pandas DataFrame.\n",
        "\n",
        "    Returns:\n",
        "        A dictionary where keys are column names and values are\n",
        "        the identified data types ('numeric', 'binary', 'ordinal', 'nominal').\n",
        "    \"\"\"\n",
        "    column_types = {}\n",
        "    for column in df.columns:\n",
        "        unique_values = df[column].unique()\n",
        "        if pd.api.types.is_numeric_dtype(df[column]):\n",
        "            if len(unique_values) == 2 and all(x in [0, 1] or pd.isna(x) for x in unique_values):\n",
        "                column_types[column] = 'binary'  # Example: 0/1 values\n",
        "            else:\n",
        "                column_types[column] = 'numeric'\n",
        "        elif pd.api.types.is_categorical_dtype(df[column]):\n",
        "             column_types[column] = 'nominal'\n",
        "        elif all(isinstance(val, str) for val in unique_values):\n",
        "            column_types[column] = 'nominal' #treat string columns as nominal by default\n",
        "        else:\n",
        "          column_types[column] = 'unknown' #add unknown category to handle ambiguous types\n",
        "\n",
        "    return column_types\n",
        "\n",
        "# Analyze column types for both DataFrames\n",
        "rating_column_types = identify_column_types(rating_df)\n",
        "general_column_types = identify_column_types(general_df)\n",
        "\n",
        "print(\"Column Types in Employee Rating Dataset:\\n\", rating_column_types, \"\\n\")\n",
        "print(\"Column Types in Employee General Dataset:\\n\", general_column_types, \"\\n\")"
      ],
      "metadata": {
        "colab": {
          "base_uri": "https://localhost:8080/"
        },
        "id": "gKocqXjj6nUX",
        "outputId": "b6a07c35-a61d-4e7d-e9d7-ba686c6f0707"
      },
      "execution_count": 31,
      "outputs": [
        {
          "output_type": "stream",
          "name": "stdout",
          "text": [
            "Column Types in Employee Rating Dataset:\n",
            " {'EmployeeNumber': 'numeric', 'Department': 'nominal', 'EnvironmentSatisfaction': 'nominal', 'JobRole': 'nominal', 'PerformanceRating': 'nominal', 'YearsAtCompany': 'numeric', 'YearsInCurrentRole': 'numeric', 'MonthlyIncome': 'numeric'} \n",
            "\n",
            "Column Types in Employee General Dataset:\n",
            " {'EmployeeNumber': 'numeric', 'Education': 'nominal', 'EducationField': 'nominal', 'MaritalStatus': 'nominal'} \n",
            "\n"
          ]
        }
      ]
    },
    {
      "cell_type": "code",
      "source": [
        "# Identify column types (numeric, binary, ordinal, nominal)\n",
        "print(\"Column Types in Employee Rating Dataset:\\n\", rating_df.nunique(), \"\\n\")\n",
        "print(\"Column Types in Employee General Dataset:\\n\", general_df.nunique(), \"\\n\")"
      ],
      "metadata": {
        "colab": {
          "base_uri": "https://localhost:8080/"
        },
        "id": "zjzBlgx-6QU0",
        "outputId": "f7b3ff86-4867-498b-d6c5-6eccf22a3e7e"
      },
      "execution_count": 32,
      "outputs": [
        {
          "output_type": "stream",
          "name": "stdout",
          "text": [
            "Column Types in Employee Rating Dataset:\n",
            " EmployeeNumber             1470\n",
            "Department                    3\n",
            "EnvironmentSatisfaction       4\n",
            "JobRole                       9\n",
            "PerformanceRating             2\n",
            "YearsAtCompany               37\n",
            "YearsInCurrentRole           19\n",
            "MonthlyIncome              1349\n",
            "dtype: int64 \n",
            "\n",
            "Column Types in Employee General Dataset:\n",
            " EmployeeNumber    1470\n",
            "Education            5\n",
            "EducationField       6\n",
            "MaritalStatus        3\n",
            "dtype: int64 \n",
            "\n"
          ]
        }
      ]
    },
    {
      "cell_type": "markdown",
      "source": [
        "## 2: Log Transformation of MonthlyIncome\n",
        "\n",
        "Transform the MonthlyIncome column by applying a log transformation to reduce skewness."
      ],
      "metadata": {
        "id": "1s-k_sJS7CJ9"
      }
    },
    {
      "cell_type": "code",
      "source": [
        "# Apply log transformation to MonthlyIncome\n",
        "rating_df['log_income'] = np.log(rating_df['MonthlyIncome'])\n"
      ],
      "metadata": {
        "id": "CTQaOoCH6h6d"
      },
      "execution_count": 33,
      "outputs": []
    },
    {
      "cell_type": "code",
      "source": [
        "# Check skewness\n",
        "print(\"Skewness after log transformation:\", rating_df['log_income'].skew())"
      ],
      "metadata": {
        "colab": {
          "base_uri": "https://localhost:8080/"
        },
        "id": "ZukcYSgJ7bAk",
        "outputId": "cc51d7c5-f830-4d1d-b2e9-36dd2c2b6256"
      },
      "execution_count": 34,
      "outputs": [
        {
          "output_type": "stream",
          "name": "stdout",
          "text": [
            "Skewness after log transformation: 0.2861922926389174\n"
          ]
        }
      ]
    },
    {
      "cell_type": "markdown",
      "source": [
        "## 3: Convert Categorical Variables in employee_rating\n",
        "\n",
        "Identify categorical columns in employee_rating that can be converted to numerical values and perform the transformation.\n",
        "\n"
      ],
      "metadata": {
        "id": "UuEXAa6m71bL"
      }
    },
    {
      "cell_type": "code",
      "source": [
        "# Identify unique values in categorical columns\n",
        "for col in rating_df.select_dtypes(include=['object']).columns:\n",
        "    print(f\"Unique values in {col}: {rating_df[col].unique()}\")"
      ],
      "metadata": {
        "colab": {
          "base_uri": "https://localhost:8080/"
        },
        "id": "GEX5A3aR8eNR",
        "outputId": "b0514ee7-4b3a-4a9d-8e96-4f54387126a0"
      },
      "execution_count": 35,
      "outputs": [
        {
          "output_type": "stream",
          "name": "stdout",
          "text": [
            "Unique values in Department: ['Sales' 'Research & Development' 'Human Resources']\n",
            "Unique values in EnvironmentSatisfaction: ['Medium' 'High' 'Very High' 'Low']\n",
            "Unique values in JobRole: ['Sales Executive' 'Research Scientist' 'Laboratory Technician'\n",
            " 'Manufacturing Director' 'Healthcare Representative' 'Manager'\n",
            " 'Sales Representative' 'Research Director' 'Human Resources']\n",
            "Unique values in PerformanceRating: ['Excellent' 'Outstanding']\n"
          ]
        }
      ]
    },
    {
      "cell_type": "code",
      "source": [
        "# EnvironmentSatisfaction: Ordinal (1:Low, 2:Medium, 3:High, 4:Very High)\n",
        "rating_df['EnvironmentSatisfaction'] = rating_df['EnvironmentSatisfaction'].map({'Low': 1, 'Medium': 2, 'High': 3, 'Very High': 4})\n"
      ],
      "metadata": {
        "id": "T8BwCh-F9SUn"
      },
      "execution_count": 36,
      "outputs": []
    },
    {
      "cell_type": "code",
      "source": [
        "# Display data after transformation\n",
        "print(rating_df.head())\n"
      ],
      "metadata": {
        "colab": {
          "base_uri": "https://localhost:8080/"
        },
        "id": "F3cQqcXa-7bE",
        "outputId": "ac671e09-c03c-4339-b980-515a92cacb6f"
      },
      "execution_count": 37,
      "outputs": [
        {
          "output_type": "stream",
          "name": "stdout",
          "text": [
            "   EmployeeNumber              Department  EnvironmentSatisfaction  \\\n",
            "0               1                   Sales                        2   \n",
            "1               2  Research & Development                        3   \n",
            "2               4  Research & Development                        4   \n",
            "3               5  Research & Development                        4   \n",
            "4               7  Research & Development                        1   \n",
            "\n",
            "                 JobRole PerformanceRating  YearsAtCompany  \\\n",
            "0        Sales Executive         Excellent               6   \n",
            "1     Research Scientist       Outstanding              10   \n",
            "2  Laboratory Technician         Excellent               0   \n",
            "3     Research Scientist         Excellent               8   \n",
            "4  Laboratory Technician         Excellent               2   \n",
            "\n",
            "   YearsInCurrentRole  MonthlyIncome  log_income  \n",
            "0                   4           5993    8.698347  \n",
            "1                   7           5130    8.542861  \n",
            "2                   0           2090    7.644919  \n",
            "3                   7           2909    7.975565  \n",
            "4                   2           3468    8.151333  \n"
          ]
        }
      ]
    },
    {
      "cell_type": "markdown",
      "source": [
        "## 4: Convert categorical (class) columns in `general_df` to meaningful numbers as transformation\n"
      ],
      "metadata": {
        "id": "yZy9PHHLEWPO"
      }
    },
    {
      "cell_type": "code",
      "source": [
        "# Convert categorical columns in `general_df` to meaningful numbers\n",
        "\n",
        "# Education (Ordinal Mapping)\n",
        "education_mapping = {'Below College': 1, 'College': 2, 'Bachelor': 3, 'Master': 4}\n",
        "general_df['Education'] = general_df['Education'].map(education_mapping)\n",
        "\n",
        "# Marital Status (Nominal Mapping)\n",
        "marital_mapping = {'Single': 1, 'Married': 2, 'Divorced': 3}\n",
        "general_df['MaritalStatus'] = general_df['MaritalStatus'].map(marital_mapping)\n",
        "\n",
        "# EducationField (Nominal - One-Hot Encoding)\n",
        "general_df = pd.get_dummies(general_df, columns=['EducationField'], drop_first=True)\n"
      ],
      "metadata": {
        "id": "LeAJL2r7HbTU"
      },
      "execution_count": 41,
      "outputs": []
    },
    {
      "cell_type": "code",
      "source": [
        "# Display data after transformation\n",
        "print(general_df.head())"
      ],
      "metadata": {
        "colab": {
          "base_uri": "https://localhost:8080/"
        },
        "id": "bpQYwfY2Hh7_",
        "outputId": "f274119d-12f6-4da7-98e9-79b3def946e4"
      },
      "execution_count": 42,
      "outputs": [
        {
          "output_type": "stream",
          "name": "stdout",
          "text": [
            "   EmployeeNumber  Education  MaritalStatus  EducationField_Life Sciences  \\\n",
            "0               1        2.0              1                          True   \n",
            "1               2        1.0              2                          True   \n",
            "2               4        2.0              1                         False   \n",
            "3               5        4.0              2                          True   \n",
            "4               7        1.0              2                         False   \n",
            "\n",
            "   EducationField_Marketing  EducationField_Medical  EducationField_Other  \\\n",
            "0                     False                   False                 False   \n",
            "1                     False                   False                 False   \n",
            "2                     False                   False                  True   \n",
            "3                     False                   False                 False   \n",
            "4                     False                    True                 False   \n",
            "\n",
            "   EducationField_Technical Degree  \n",
            "0                            False  \n",
            "1                            False  \n",
            "2                            False  \n",
            "3                            False  \n",
            "4                            False  \n"
          ]
        }
      ]
    },
    {
      "cell_type": "markdown",
      "source": [
        "## 5. Merge both datasets properly"
      ],
      "metadata": {
        "id": "OmoLGp9wFhhp"
      }
    },
    {
      "cell_type": "code",
      "source": [
        "# Step 2: Merge datasets on EmployeeNumber\n",
        "merged_df = pd.merge(rating_df, general_df, on='EmployeeNumber')\n",
        "\n",
        "# Display the first few rows of the merged dataset\n",
        "print(\"\\nMerged Dataset:\\n\", merged_df.head())\n"
      ],
      "metadata": {
        "colab": {
          "base_uri": "https://localhost:8080/"
        },
        "id": "w_YmYHj1FgWn",
        "outputId": "85de3ddb-39a5-4104-f3ee-a5cd097ba482"
      },
      "execution_count": 45,
      "outputs": [
        {
          "output_type": "stream",
          "name": "stdout",
          "text": [
            "\n",
            "Merged Dataset:\n",
            "    EmployeeNumber              Department  EnvironmentSatisfaction  \\\n",
            "0               1                   Sales                        2   \n",
            "1               2  Research & Development                        3   \n",
            "2               4  Research & Development                        4   \n",
            "3               5  Research & Development                        4   \n",
            "4               7  Research & Development                        1   \n",
            "\n",
            "                 JobRole PerformanceRating  YearsAtCompany  \\\n",
            "0        Sales Executive         Excellent               6   \n",
            "1     Research Scientist       Outstanding              10   \n",
            "2  Laboratory Technician         Excellent               0   \n",
            "3     Research Scientist         Excellent               8   \n",
            "4  Laboratory Technician         Excellent               2   \n",
            "\n",
            "   YearsInCurrentRole  MonthlyIncome  log_income  Education  MaritalStatus  \\\n",
            "0                   4           5993    8.698347        2.0              1   \n",
            "1                   7           5130    8.542861        1.0              2   \n",
            "2                   0           2090    7.644919        2.0              1   \n",
            "3                   7           2909    7.975565        4.0              2   \n",
            "4                   2           3468    8.151333        1.0              2   \n",
            "\n",
            "   EducationField_Life Sciences  EducationField_Marketing  \\\n",
            "0                          True                     False   \n",
            "1                          True                     False   \n",
            "2                         False                     False   \n",
            "3                          True                     False   \n",
            "4                         False                     False   \n",
            "\n",
            "   EducationField_Medical  EducationField_Other  \\\n",
            "0                   False                 False   \n",
            "1                   False                 False   \n",
            "2                   False                  True   \n",
            "3                   False                 False   \n",
            "4                    True                 False   \n",
            "\n",
            "   EducationField_Technical Degree  \n",
            "0                            False  \n",
            "1                            False  \n",
            "2                            False  \n",
            "3                            False  \n",
            "4                            False  \n"
          ]
        }
      ]
    },
    {
      "cell_type": "code",
      "source": [
        "# Check final data types\n",
        "print(\"\\nFinal Data Types:\\n\", merged_df.dtypes)"
      ],
      "metadata": {
        "colab": {
          "base_uri": "https://localhost:8080/"
        },
        "id": "GYdrZdsgI_5R",
        "outputId": "950748e9-2a18-4413-dd80-75836a5a98b8"
      },
      "execution_count": 46,
      "outputs": [
        {
          "output_type": "stream",
          "name": "stdout",
          "text": [
            "\n",
            "Final Data Types:\n",
            " EmployeeNumber                       int64\n",
            "Department                          object\n",
            "EnvironmentSatisfaction              int64\n",
            "JobRole                             object\n",
            "PerformanceRating                   object\n",
            "YearsAtCompany                       int64\n",
            "YearsInCurrentRole                   int64\n",
            "MonthlyIncome                        int64\n",
            "log_income                         float64\n",
            "Education                          float64\n",
            "MaritalStatus                        int64\n",
            "EducationField_Life Sciences          bool\n",
            "EducationField_Marketing              bool\n",
            "EducationField_Medical                bool\n",
            "EducationField_Other                  bool\n",
            "EducationField_Technical Degree       bool\n",
            "dtype: object\n"
          ]
        }
      ]
    }
  ]
}